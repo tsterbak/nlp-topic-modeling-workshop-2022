{
 "cells": [
  {
   "cell_type": "markdown",
   "id": "807818b4-2c4a-4043-8c44-70616952d955",
   "metadata": {},
   "source": [
    "# Notebook 2: Topic modeling"
   ]
  },
  {
   "attachments": {
    "5d18434a-060f-4c37-9f1b-b3ae5093b6b9.jpeg": {
     "image/jpeg": "[encoded data removed]"
    }
   },
   "cell_type": "markdown",
   "id": "af565fca-46e1-4888-bf8b-10bbd965da38",
   "metadata": {},
   "source": [
    "![topicmodelingpipeline.jpeg](attachment:5d18434a-060f-4c37-9f1b-b3ae5093b6b9.jpeg)"
   ]
  },
  {
   "cell_type": "markdown",
   "id": "ce33f262-a08a-4656-a5b0-ee88686569fc",
   "metadata": {},
   "source": [
    "## Load data"
   ]
  },
  {
   "cell_type": "code",
   "execution_count": null,
   "id": "b207800a-6ced-4e07-b0ed-c0509e66e737",
   "metadata": {},
   "outputs": [],
   "source": [
    "import matplotlib.pyplot as plt"
   ]
  },
  {
   "cell_type": "code",
   "execution_count": null,
   "id": "64c7d08c-718a-466a-924c-349a719d2e73",
   "metadata": {},
   "outputs": [],
   "source": [
    "from sklearn.datasets import fetch_20newsgroups\n",
    "\n",
    "newsgroups = fetch_20newsgroups(subset='all',  remove=('headers', 'footers', 'quotes'))\n",
    "print(newsgroups[\"DESCR\"][:394])\n",
    "\n",
    "docs, labels, target_names = newsgroups[\"data\"], newsgroups[\"target\"], newsgroups[\"target_names\"]"
   ]
  },
  {
   "cell_type": "markdown",
   "id": "a408d945-d0ee-488c-9f0a-ad27f0a5e36b",
   "metadata": {},
   "source": [
    "## 1. The classics: LDA\n",
    "\n",
    "Latent Dirichlet Allocation is a generative probabilistic model for collections of discrete dataset such as text corpora. It is also a topic model that is used for discovering abstract topics from a collection of documents.\n",
    "\n",
    "When LatentDirichletAllocation is applied on a “document-term” matrix, the matrix will be decomposed into a “topic-term” matrix and a “document-topic” matrix. While “topic-term” matrix is stored as components_ in the model, “document-topic” matrix can be calculated from transform method.\n",
    "\n",
    "Further reading:\n",
    "- https://scikit-learn.org/stable/modules/generated/sklearn.decomposition.LatentDirichletAllocation.html\n",
    "- https://www.depends-on-the-definition.com/lda-from-scratch/"
   ]
  },
  {
   "cell_type": "code",
   "execution_count": null,
   "id": "c42cebef-6164-4988-b2e4-2aa8e0694afb",
   "metadata": {},
   "outputs": [],
   "source": [
    "from sklearn.feature_extraction.text import CountVectorizer\n",
    "from sklearn.decomposition import LatentDirichletAllocation"
   ]
  },
  {
   "cell_type": "code",
   "execution_count": null,
   "id": "33418107-50fc-462d-a597-f4b048b93cb1",
   "metadata": {},
   "outputs": [],
   "source": [
    "vectorizer = CountVectorizer(max_features=10000, stop_words=\"english\", max_df=0.95, min_df=2,)\n",
    "encoded_docs = vectorizer.fit_transform(docs)"
   ]
  },
  {
   "cell_type": "code",
   "execution_count": null,
   "id": "f65449d5-8504-4459-84e0-5c635878e600",
   "metadata": {},
   "outputs": [],
   "source": [
    "lda = LatentDirichletAllocation(n_components=10, random_state=2022)\n",
    "\n",
    "lda.fit(encoded_docs)"
   ]
  },
  {
   "cell_type": "code",
   "execution_count": null,
   "id": "dad3db68-de73-412b-b16e-25358f1a97a3",
   "metadata": {},
   "outputs": [],
   "source": [
    "def plot_top_words(model, feature_names, n_top_words, title):\n",
    "    fig, axes = plt.subplots(2, 5, figsize=(30, 8), sharex=True)\n",
    "    axes = axes.flatten()\n",
    "    for topic_idx, topic in enumerate(model.components_):\n",
    "        top_features_ind = topic.argsort()[: -n_top_words - 1 : -1]\n",
    "        top_features = [feature_names[i] for i in top_features_ind]\n",
    "        weights = topic[top_features_ind]\n",
    "\n",
    "        ax = axes[topic_idx]\n",
    "        ax.barh(top_features, weights, height=0.7)\n",
    "        ax.set_title(f\"Topic {topic_idx +1}\", fontdict={\"fontsize\": 30})\n",
    "        ax.invert_yaxis()\n",
    "        ax.tick_params(axis=\"both\", which=\"major\", labelsize=20)\n",
    "        for i in \"top right left\".split():\n",
    "            ax.spines[i].set_visible(False)\n",
    "        fig.suptitle(title, fontsize=40)\n",
    "\n",
    "    plt.subplots_adjust(top=0.90, bottom=0.05, wspace=0.90, hspace=0.3)\n",
    "    plt.show()"
   ]
  },
  {
   "cell_type": "code",
   "execution_count": null,
   "id": "a858f847-fac1-409d-add8-46032a752dc2",
   "metadata": {},
   "outputs": [],
   "source": [
    "plot_top_words(lda, feature_names=vectorizer.get_feature_names_out(), n_top_words=10, title=\"Topics in LDA model\")"
   ]
  },
  {
   "cell_type": "markdown",
   "id": "c57dcb18-ad98-44a0-9ec5-e2bda30f79c0",
   "metadata": {},
   "source": [
    "## 2. The \"modern\" approach: BERTopic\n",
    "\n",
    "We use similar tools as in part one. Could replace everything by language models.\n",
    "\n",
    "Further reading:\n",
    "- https://maartengr.github.io/BERTopic/\n",
    "- Dynamic topic modelling: https://maartengr.github.io/BERTopic/getting_started/topicsovertime/topicsovertime.html\n"
   ]
  },
  {
   "cell_type": "code",
   "execution_count": null,
   "id": "34fe18fb-dab0-4da8-8ba2-2c276a47baa0",
   "metadata": {},
   "outputs": [],
   "source": [
    "from bertopic import BERTopic\n",
    "from sklearn.feature_extraction.text import TfidfVectorizer\n",
    "\n",
    "# here we use a TFIDF-model, but we also could use a language model here (with GPU)\n",
    "vectorizer_model = CountVectorizer(stop_words=\"english\")\n",
    "\n",
    "vectorizer = TfidfVectorizer(min_df=5, max_df=0.9, stop_words=\"english\")\n",
    "embeddings = vectorizer.fit_transform(docs)\n",
    "\n",
    "# Train our topic model using TF-IDF vectors\n",
    "topic_model = BERTopic(vectorizer_model=vectorizer_model)\n",
    "topics, probs = topic_model.fit_transform(docs, embeddings)"
   ]
  },
  {
   "cell_type": "markdown",
   "id": "f672569f-c9b2-4006-8fcf-637b94aa9568",
   "metadata": {},
   "source": [
    "### 2.1 Visualize the topics\n",
    "\n",
    "https://maartengr.github.io/BERTopic/algorithm/algorithm.html\n",
    "\n",
    "Further reading:\n",
    "- https://maartengr.github.io/BERTopic/getting_started/visualization/visualization.html"
   ]
  },
  {
   "cell_type": "code",
   "execution_count": null,
   "id": "62828b04-bc2b-4079-b815-a64793729f84",
   "metadata": {},
   "outputs": [],
   "source": [
    "topic_model.visualize_topics()"
   ]
  },
  {
   "cell_type": "code",
   "execution_count": null,
   "id": "d65be057-8744-4ea7-8c77-349aca23a351",
   "metadata": {},
   "outputs": [],
   "source": [
    "topic_model.visualize_documents(docs, embeddings=embeddings)"
   ]
  },
  {
   "cell_type": "code",
   "execution_count": null,
   "id": "c7968237-dc56-4f1d-8760-248847cbc258",
   "metadata": {},
   "outputs": [],
   "source": [
    "# Reduce topics\n",
    "topic_model.reduce_topics(docs, nr_topics=20)"
   ]
  },
  {
   "cell_type": "code",
   "execution_count": null,
   "id": "fc5a4b6c-e895-456b-8a10-4215fd773800",
   "metadata": {},
   "outputs": [],
   "source": [
    "topic_model.visualize_documents(docs, embeddings=embeddings)"
   ]
  },
  {
   "cell_type": "code",
   "execution_count": null,
   "id": "95b96dd0-3ed1-4e53-a4fd-aeae0847860c",
   "metadata": {},
   "outputs": [],
   "source": [
    "# Look at the topic top words\n",
    "topic_model.get_topic(3)[:10]"
   ]
  },
  {
   "cell_type": "code",
   "execution_count": null,
   "id": "e428cf7b-da9b-42e4-9003-16c64f4cb96d",
   "metadata": {},
   "outputs": [],
   "source": []
  }
 ],
 "metadata": {
  "kernelspec": {
   "display_name": "Python 3 (ipykernel)",
   "language": "python",
   "name": "python3"
  },
  "language_info": {
   "codemirror_mode": {
    "name": "ipython",
    "version": 3
   },
   "file_extension": ".py",
   "mimetype": "text/x-python",
   "name": "python",
   "nbconvert_exporter": "python",
   "pygments_lexer": "ipython3",
   "version": "3.9.16"
  }
 },
 "nbformat": 4,
 "nbformat_minor": 5
}
